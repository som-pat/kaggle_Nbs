{
  "metadata": {
    "kernelspec": {
      "display_name": "Python 3",
      "name": "python3"
    },
    "language_info": {
      "name": "python",
      "version": "3.10.13",
      "mimetype": "text/x-python",
      "codemirror_mode": {
        "name": "ipython",
        "version": 3
      },
      "pygments_lexer": "ipython3",
      "nbconvert_exporter": "python",
      "file_extension": ".py"
    },
    "kaggle": {
      "accelerator": "nvidiaTeslaT4",
      "dataSources": [
        {
          "sourceId": 2609027,
          "sourceType": "datasetVersion",
          "datasetId": 5857
        }
      ],
      "dockerImageVersionId": 30673,
      "isInternetEnabled": true,
      "language": "python",
      "sourceType": "notebook",
      "isGpuEnabled": true
    },
    "colab": {
      "name": "Resnet Transfer Learning",
      "provenance": [],
      "gpuType": "T4",
      "include_colab_link": true
    },
    "accelerator": "GPU"
  },
  "nbformat_minor": 0,
  "nbformat": 4,
  "cells": [
    {
      "cell_type": "markdown",
      "metadata": {
        "id": "view-in-github",
        "colab_type": "text"
      },
      "source": [
        "<a href=\"https://colab.research.google.com/github/som-pat/Resnet-BasevsTL/blob/main/Resnet_Transfer_Learning.ipynb\" target=\"_parent\"><img src=\"https://colab.research.google.com/assets/colab-badge.svg\" alt=\"Open In Colab\"/></a>"
      ]
    },
    {
      "source": [
        "\n",
        "# IMPORTANT: RUN THIS CELL IN ORDER TO IMPORT YOUR KAGGLE DATA SOURCES\n",
        "# TO THE CORRECT LOCATION (/kaggle/input) IN YOUR NOTEBOOK,\n",
        "# THEN FEEL FREE TO DELETE THIS CELL.\n",
        "# NOTE: THIS NOTEBOOK ENVIRONMENT DIFFERS FROM KAGGLE'S PYTHON\n",
        "# ENVIRONMENT SO THERE MAY BE MISSING LIBRARIES USED BY YOUR\n",
        "# NOTEBOOK.\n",
        "\n",
        "import os\n",
        "import sys\n",
        "from tempfile import NamedTemporaryFile\n",
        "from urllib.request import urlopen\n",
        "from urllib.parse import unquote, urlparse\n",
        "from urllib.error import HTTPError\n",
        "from zipfile import ZipFile\n",
        "import tarfile\n",
        "import shutil\n",
        "\n",
        "CHUNK_SIZE = 40960\n",
        "DATA_SOURCE_MAPPING = 'fruits:https%3A%2F%2Fstorage.googleapis.com%2Fkaggle-data-sets%2F5857%2F2609027%2Fbundle%2Farchive.zip%3FX-Goog-Algorithm%3DGOOG4-RSA-SHA256%26X-Goog-Credential%3Dgcp-kaggle-com%2540kaggle-161607.iam.gserviceaccount.com%252F20240421%252Fauto%252Fstorage%252Fgoog4_request%26X-Goog-Date%3D20240421T181627Z%26X-Goog-Expires%3D259200%26X-Goog-SignedHeaders%3Dhost%26X-Goog-Signature%3D7c474f9531c185e4d2a462d4514db211a2c29279a9121008afc978298f46e69702c63b0a8efc3c9384f38c69a14b0f7c77b6def287f81d21cbd09303aaf5979e998c0fbe9b95f77a02698901d0aadfdfff8c13fc9d2fc9ea56dfcc19db2074321cc5a71cc2736df23e7518b5099e94f49cb6b1da90edd321aed7aecbd8e643d9ae0d6960150f24b5e6b2ee03b7e945bef26d9c42b06244f6391797cced5796c330fd46cebf2865fedc91e0cdf8c178b01e09d53d37887c595138e13f623acddeabe679d12cead39a4edec3370edc5d6d8bbf44cb1cc94b906a788514bf11743497888ed8ea5427e0b0f7fd6356432452fee453e561917fd0aade3b811e8ff805'\n",
        "\n",
        "KAGGLE_INPUT_PATH='/kaggle/input'\n",
        "KAGGLE_WORKING_PATH='/kaggle/working'\n",
        "KAGGLE_SYMLINK='kaggle'\n",
        "\n",
        "!umount /kaggle/input/ 2> /dev/null\n",
        "shutil.rmtree('/kaggle/input', ignore_errors=True)\n",
        "os.makedirs(KAGGLE_INPUT_PATH, 0o777, exist_ok=True)\n",
        "os.makedirs(KAGGLE_WORKING_PATH, 0o777, exist_ok=True)\n",
        "\n",
        "try:\n",
        "  os.symlink(KAGGLE_INPUT_PATH, os.path.join(\"..\", 'input'), target_is_directory=True)\n",
        "except FileExistsError:\n",
        "  pass\n",
        "try:\n",
        "  os.symlink(KAGGLE_WORKING_PATH, os.path.join(\"..\", 'working'), target_is_directory=True)\n",
        "except FileExistsError:\n",
        "  pass\n",
        "\n",
        "for data_source_mapping in DATA_SOURCE_MAPPING.split(','):\n",
        "    directory, download_url_encoded = data_source_mapping.split(':')\n",
        "    download_url = unquote(download_url_encoded)\n",
        "    filename = urlparse(download_url).path\n",
        "    destination_path = os.path.join(KAGGLE_INPUT_PATH, directory)\n",
        "    try:\n",
        "        with urlopen(download_url) as fileres, NamedTemporaryFile() as tfile:\n",
        "            total_length = fileres.headers['content-length']\n",
        "            print(f'Downloading {directory}, {total_length} bytes compressed')\n",
        "            dl = 0\n",
        "            data = fileres.read(CHUNK_SIZE)\n",
        "            while len(data) > 0:\n",
        "                dl += len(data)\n",
        "                tfile.write(data)\n",
        "                done = int(50 * dl / int(total_length))\n",
        "                sys.stdout.write(f\"\\r[{'=' * done}{' ' * (50-done)}] {dl} bytes downloaded\")\n",
        "                sys.stdout.flush()\n",
        "                data = fileres.read(CHUNK_SIZE)\n",
        "            if filename.endswith('.zip'):\n",
        "              with ZipFile(tfile) as zfile:\n",
        "                zfile.extractall(destination_path)\n",
        "            else:\n",
        "              with tarfile.open(tfile.name) as tarfile:\n",
        "                tarfile.extractall(destination_path)\n",
        "            print(f'\\nDownloaded and uncompressed: {directory}')\n",
        "    except HTTPError as e:\n",
        "        print(f'Failed to load (likely expired) {download_url} to path {destination_path}')\n",
        "        continue\n",
        "    except OSError as e:\n",
        "        print(f'Failed to load {download_url} to path {destination_path}')\n",
        "        continue\n",
        "\n",
        "print('Data source import complete.')\n"
      ],
      "metadata": {
        "id": "BSMdpvv438bd",
        "outputId": "d5c05ee5-ea64-46a0-9832-0607e5294b80",
        "colab": {
          "base_uri": "https://localhost:8080/"
        }
      },
      "cell_type": "code",
      "outputs": [
        {
          "output_type": "stream",
          "name": "stdout",
          "text": [
            "Downloading fruits, 1379678841 bytes compressed\n",
            "[==================================================] 1379678841 bytes downloaded\n",
            "Downloaded and uncompressed: fruits\n",
            "Data source import complete.\n"
          ]
        }
      ],
      "execution_count": 1
    },
    {
      "cell_type": "code",
      "source": [
        "# This Python 3 environment comes with many helpful analytics libraries installed\n",
        "# It is defined by the kaggle/python Docker image: https://github.com/kaggle/docker-python\n",
        "# For example, here's several helpful packages to load\n",
        "\n",
        "import numpy as np # linear algebra\n",
        "import pandas as pd # data processing, CSV file I/O (e.g. pd.read_csv)\n",
        "\n",
        "# Input data files are available in the read-only \"../input/\" directory\n",
        "# For example, running this (by clicking run or pressing Shift+Enter) will list all files under the input directory\n",
        "\n",
        "import os\n",
        "\n",
        "\n",
        "# You can write up to 20GB to the current directory (/kaggle/working/) that gets preserved as output when you create a version using \"Save & Run All\"\n",
        "# You can also write temporary files to /kaggle/temp/, but they won't be saved outside of the current session"
      ],
      "metadata": {
        "_uuid": "8f2839f25d086af736a60e9eeb907d3b93b6e0e5",
        "_cell_guid": "b1076dfc-b9ad-4769-8c92-a6c4dae69d19",
        "execution": {
          "iopub.status.busy": "2024-04-14T10:35:07.118503Z",
          "iopub.execute_input": "2024-04-14T10:35:07.119062Z",
          "iopub.status.idle": "2024-04-14T10:35:07.463102Z",
          "shell.execute_reply.started": "2024-04-14T10:35:07.119026Z",
          "shell.execute_reply": "2024-04-14T10:35:07.462384Z"
        },
        "trusted": true,
        "id": "T-HX-rFN38bl"
      },
      "execution_count": 2,
      "outputs": []
    },
    {
      "cell_type": "code",
      "source": [
        "import torch\n",
        "import numpy\n",
        "import pandas as pd\n",
        "import torch.nn as nn\n",
        "from torch import optim\n",
        "from torch.utils.data import DataLoader,random_split\n",
        "from torchvision import datasets, transforms\n",
        "import torchvision\n",
        "import matplotlib.pyplot as plt\n",
        "import numpy as np\n",
        "import itertools\n",
        "from zipfile import ZipFile\n",
        "from glob import glob\n",
        "from PIL import Image\n",
        "import os,random,time,copy\n",
        "# from resnet import ResidualBlock, ResNet, ResNet50\n",
        "from tqdm import tqdm\n",
        "\n",
        "import torch\n",
        "import torch.nn as  nn\n",
        "import torch.nn.functional as F"
      ],
      "metadata": {
        "execution": {
          "iopub.status.busy": "2024-04-14T10:35:07.467404Z",
          "iopub.execute_input": "2024-04-14T10:35:07.467681Z",
          "iopub.status.idle": "2024-04-14T10:35:10.711517Z",
          "shell.execute_reply.started": "2024-04-14T10:35:07.467657Z",
          "shell.execute_reply": "2024-04-14T10:35:10.71053Z"
        },
        "trusted": true,
        "id": "MQYuRImf38bm"
      },
      "execution_count": 3,
      "outputs": []
    },
    {
      "cell_type": "code",
      "source": [
        "Image_size = [100,100]\n",
        "epoch = 16\n",
        "batch_size = 64"
      ],
      "metadata": {
        "execution": {
          "iopub.status.busy": "2024-04-14T10:35:10.713403Z",
          "iopub.execute_input": "2024-04-14T10:35:10.714138Z",
          "iopub.status.idle": "2024-04-14T10:35:10.718657Z",
          "shell.execute_reply.started": "2024-04-14T10:35:10.714103Z",
          "shell.execute_reply": "2024-04-14T10:35:10.717625Z"
        },
        "trusted": true,
        "id": "lnuXJ3FZ38bn"
      },
      "execution_count": 4,
      "outputs": []
    },
    {
      "cell_type": "code",
      "source": [
        "dtype = torch.float\n",
        "device = torch.device(\"cuda\") if torch.cuda.is_available() else torch.device(\"cpu\")\n",
        "print(device)"
      ],
      "metadata": {
        "execution": {
          "iopub.status.busy": "2024-04-14T10:35:10.721954Z",
          "iopub.execute_input": "2024-04-14T10:35:10.72233Z",
          "iopub.status.idle": "2024-04-14T10:35:10.791883Z",
          "shell.execute_reply.started": "2024-04-14T10:35:10.722306Z",
          "shell.execute_reply": "2024-04-14T10:35:10.790714Z"
        },
        "trusted": true,
        "id": "9UlNZVfg38bn",
        "outputId": "a2be4dd9-e7c0-48de-8660-a08fc967e3ba",
        "colab": {
          "base_uri": "https://localhost:8080/"
        }
      },
      "execution_count": 5,
      "outputs": [
        {
          "output_type": "stream",
          "name": "stdout",
          "text": [
            "cuda\n"
          ]
        }
      ]
    },
    {
      "cell_type": "code",
      "source": [
        "train_path = '/kaggle/input/fruits/fruits-360_dataset/fruits-360/Training'\n",
        "test_path = '/kaggle/input/fruits/fruits-360_dataset/fruits-360/Test'\n",
        "classes = len(os.listdir(train_path))"
      ],
      "metadata": {
        "execution": {
          "iopub.status.busy": "2024-04-14T10:35:10.793126Z",
          "iopub.execute_input": "2024-04-14T10:35:10.793489Z",
          "iopub.status.idle": "2024-04-14T10:35:10.808558Z",
          "shell.execute_reply.started": "2024-04-14T10:35:10.793454Z",
          "shell.execute_reply": "2024-04-14T10:35:10.807464Z"
        },
        "trusted": true,
        "id": "Eeboi38H38bo"
      },
      "execution_count": 6,
      "outputs": []
    },
    {
      "cell_type": "code",
      "source": [
        "transform_train = transforms.Compose([\n",
        "            transforms.Resize(Image_size),\n",
        "            # transforms.GaussianBlur(kernel_size = (3,3),sigma = (0.5,5)),\n",
        "            # transforms.Grayscale(),\n",
        "            transforms.RandomHorizontalFlip(),\n",
        "            transforms.RandomRotation(10),\n",
        "            transforms.RandomAffine(0, shear=10, scale=(0.8,1.2)),\n",
        "            transforms.ToTensor(),\n",
        "            transforms.Normalize((0.485, 0.456, 0.406), (0.229, 0.224, 0.225))\n",
        "            ])\n",
        "\n",
        "transform_test = transforms.Compose([\n",
        "            transforms.Resize(Image_size),\n",
        "            transforms.ToTensor(),\n",
        "            transforms.Normalize((0.485, 0.456, 0.406), (0.229, 0.224, 0.225)),\n",
        "            ])"
      ],
      "metadata": {
        "execution": {
          "iopub.status.busy": "2024-04-14T10:35:10.809992Z",
          "iopub.execute_input": "2024-04-14T10:35:10.81032Z",
          "iopub.status.idle": "2024-04-14T10:35:10.817732Z",
          "shell.execute_reply.started": "2024-04-14T10:35:10.810289Z",
          "shell.execute_reply": "2024-04-14T10:35:10.816839Z"
        },
        "trusted": true,
        "id": "WDCHkApw38bp"
      },
      "execution_count": 7,
      "outputs": []
    },
    {
      "cell_type": "code",
      "source": [
        "train = datasets.ImageFolder(train_path,transform_train)\n",
        "test = datasets.ImageFolder(test_path, transform_test)\n",
        "tlen = int(len(train)-0.25*(len(train)))\n",
        "train,valid = random_split(train,[tlen,len(train)-tlen])"
      ],
      "metadata": {
        "execution": {
          "iopub.status.busy": "2024-04-14T10:35:10.819Z",
          "iopub.execute_input": "2024-04-14T10:35:10.819359Z",
          "iopub.status.idle": "2024-04-14T10:35:11.881074Z",
          "shell.execute_reply.started": "2024-04-14T10:35:10.819312Z",
          "shell.execute_reply": "2024-04-14T10:35:11.880095Z"
        },
        "trusted": true,
        "id": "zrzROwFR38bp"
      },
      "execution_count": 8,
      "outputs": []
    },
    {
      "cell_type": "code",
      "source": [
        "fig, axs = plt.subplots(1,4, figsize=(6, 6))  # Create a horizontal line of subplots\n",
        "j = random.randint(120,1029)\n",
        "for i in range(4):\n",
        "    image, label = train[j+i]\n",
        "    axs[i].imshow(image.permute(1, 2, 0))   # Display the grayscale image\n",
        "    axs[i].set_title(f\"Label: {label}\")\n",
        "    axs[i].axis('off')  # Turn off axis labels and ticks\n",
        "\n",
        "plt.tight_layout()\n",
        "plt.show()"
      ],
      "metadata": {
        "execution": {
          "iopub.status.busy": "2024-04-14T10:35:11.89204Z",
          "iopub.execute_input": "2024-04-14T10:35:11.892953Z",
          "iopub.status.idle": "2024-04-14T10:35:12.28026Z",
          "shell.execute_reply.started": "2024-04-14T10:35:11.892914Z",
          "shell.execute_reply": "2024-04-14T10:35:12.279368Z"
        },
        "trusted": true,
        "id": "jdxyfsS238bq",
        "outputId": "6dc439d4-a595-4e97-9d46-a6e3e2821295",
        "colab": {
          "base_uri": "https://localhost:8080/",
          "height": 259
        }
      },
      "execution_count": 9,
      "outputs": [
        {
          "output_type": "stream",
          "name": "stderr",
          "text": [
            "WARNING:matplotlib.image:Clipping input data to the valid range for imshow with RGB data ([0..1] for floats or [0..255] for integers).\n",
            "WARNING:matplotlib.image:Clipping input data to the valid range for imshow with RGB data ([0..1] for floats or [0..255] for integers).\n",
            "WARNING:matplotlib.image:Clipping input data to the valid range for imshow with RGB data ([0..1] for floats or [0..255] for integers).\n",
            "WARNING:matplotlib.image:Clipping input data to the valid range for imshow with RGB data ([0..1] for floats or [0..255] for integers).\n"
          ]
        },
        {
          "output_type": "display_data",
          "data": {
            "text/plain": [
              "<Figure size 600x600 with 4 Axes>"
            ],
            "image/png": "[encoded data removed]"
          },
          "metadata": {}
        }
      ]
    },
    {
      "cell_type": "code",
      "source": [
        "train_loader = DataLoader(train, batch_size=batch_size, shuffle=True)\n",
        "valid_loader = DataLoader(valid, batch_size=batch_size, shuffle=True)\n",
        "test_loader = DataLoader(test, batch_size=batch_size, shuffle=True)"
      ],
      "metadata": {
        "execution": {
          "iopub.status.busy": "2024-04-14T10:35:12.281418Z",
          "iopub.execute_input": "2024-04-14T10:35:12.281704Z",
          "iopub.status.idle": "2024-04-14T10:35:12.286482Z",
          "shell.execute_reply.started": "2024-04-14T10:35:12.281679Z",
          "shell.execute_reply": "2024-04-14T10:35:12.285632Z"
        },
        "trusted": true,
        "id": "_7ZTp_k038br"
      },
      "execution_count": 10,
      "outputs": []
    },
    {
      "cell_type": "code",
      "source": [
        "image,labels = next(iter(train_loader))\n",
        "print(image.shape)\n",
        "print(labels.shape)\n",
        "print(classes)"
      ],
      "metadata": {
        "execution": {
          "iopub.status.busy": "2024-04-14T10:35:12.287704Z",
          "iopub.execute_input": "2024-04-14T10:35:12.287959Z",
          "iopub.status.idle": "2024-04-14T10:35:12.510941Z",
          "shell.execute_reply.started": "2024-04-14T10:35:12.287937Z",
          "shell.execute_reply": "2024-04-14T10:35:12.510062Z"
        },
        "trusted": true,
        "id": "BCOEx5W_38br",
        "outputId": "f2de17f8-b3c7-4b84-c2c5-c7bf1ba18eff",
        "colab": {
          "base_uri": "https://localhost:8080/"
        }
      },
      "execution_count": 11,
      "outputs": [
        {
          "output_type": "stream",
          "name": "stdout",
          "text": [
            "torch.Size([64, 3, 100, 100])\n",
            "torch.Size([64])\n",
            "131\n"
          ]
        }
      ]
    },
    {
      "cell_type": "code",
      "source": [
        "class ResidualBlock(nn.Module):\n",
        "    def __init__(self, in_channels,out_channels, stride=1,downsample=None):\n",
        "        super(ResidualBlock,self).__init__()\n",
        "        self.conv1 = nn.Sequential(\n",
        "            nn.Conv2d(in_channels, out_channels, kernel_size=3, stride=stride,padding =1),\n",
        "            nn.BatchNorm2d(out_channels),\n",
        "            nn.ReLU()\n",
        "        )\n",
        "        self.conv2 = nn.Sequential(\n",
        "            nn.Conv2d(out_channels, out_channels, kernel_size=3,stride=1,padding=1),\n",
        "            nn.BatchNorm2d(out_channels),\n",
        "        )\n",
        "        self.downsample = downsample\n",
        "        self.relu = nn.ReLU()\n",
        "        self.out_channels = out_channels\n",
        "\n",
        "    def forward(self,x):\n",
        "        residual = x\n",
        "        out = self.conv1(x)\n",
        "        out = self.conv2(out)\n",
        "        if self.downsample:\n",
        "            residual = self.downsample(x)\n",
        "        out+= residual\n",
        "        out = self.relu(out)\n",
        "        return out\n",
        "\n",
        "\n",
        "\n",
        "\n",
        "\n",
        "\n",
        "class ResNet(nn.Module):\n",
        "    def __init__(self, blocks,layers,num_classes):\n",
        "        super(ResNet, self).__init__()\n",
        "        self.inplanes = 64\n",
        "        self.conv1 = nn.Sequential(\n",
        "                    nn.Conv2d(3, 64, kernel_size=5,stride=2,padding=3),\n",
        "                    nn.BatchNorm2d(64),\n",
        "                    nn.ReLU())\n",
        "        self.maxpool = nn.MaxPool2d(kernel_size=3,stride=2,padding=1)\n",
        "        self.layer0 = self.make_layer(blocks,64,layers[0],stride=1)\n",
        "        self.layer1 = self.make_layer(blocks,128,layers[1],stride=2)\n",
        "        self.layer2 = self.make_layer(blocks,256,layers[2],stride=2)\n",
        "        self.layer3 = self.make_layer(blocks,512,layers[3],stride=2)\n",
        "\n",
        "        self.ap1 = nn.AdaptiveAvgPool2d((1,1))\n",
        "\n",
        "        self.fc = nn.Sequential(\n",
        "            nn.Linear(512,128),\n",
        "            nn.ReLU(),\n",
        "            nn.Linear(128,num_classes))\n",
        "\n",
        "\n",
        "    def make_layer(self, block,planes,blocks,stride=1):\n",
        "        downsample =None\n",
        "        if stride!=1 or self.inplanes!=planes:\n",
        "            downsample =nn.Sequential(\n",
        "                nn.Conv2d(self.inplanes,planes,kernel_size=1,stride=stride),\n",
        "                nn.BatchNorm2d(planes)\n",
        "            )\n",
        "        layers = []\n",
        "        layers.append(block(self.inplanes, planes, stride,downsample))\n",
        "        self.inplanes = planes\n",
        "        for i in range(1, blocks):\n",
        "            layers.append(block(self.inplanes, planes))\n",
        "\n",
        "        return nn.Sequential(*layers)\n",
        "\n",
        "    def forward(self,x):\n",
        "        x = self.conv1(x)\n",
        "        x = self.maxpool(x)\n",
        "        x = self.layer0(x)\n",
        "        x = self.layer1(x)\n",
        "        x = self.layer2(x)\n",
        "        x = self.layer3(x)\n",
        "        x = self.ap1(x)\n",
        "        x = x.reshape(x.shape[0], -1)\n",
        "        # x = x.view(x.size(0),-1)\n",
        "        x = self.fc(x)\n",
        "\n",
        "        return x\n",
        "\n",
        "def ResNet50(num_classes):\n",
        "    return ResNet(ResidualBlock, [3,4,6,3], num_classes)\n",
        "\n",
        "def ResNet101(num_classes):\n",
        "    return ResNet(ResidualBlock, [3,4,23,3], num_classes)"
      ],
      "metadata": {
        "execution": {
          "iopub.status.busy": "2024-04-14T10:35:12.512122Z",
          "iopub.execute_input": "2024-04-14T10:35:12.512412Z",
          "iopub.status.idle": "2024-04-14T10:35:12.530471Z",
          "shell.execute_reply.started": "2024-04-14T10:35:12.512388Z",
          "shell.execute_reply": "2024-04-14T10:35:12.529555Z"
        },
        "trusted": true,
        "id": "tdF4Wsnc38br"
      },
      "execution_count": 12,
      "outputs": []
    },
    {
      "cell_type": "code",
      "source": [
        "pre_train50 = ResNet50(classes).to(device)\n",
        "pre_train101 = ResNet101(classes).to(device)"
      ],
      "metadata": {
        "execution": {
          "iopub.status.busy": "2024-04-14T10:35:12.534427Z",
          "iopub.execute_input": "2024-04-14T10:35:12.534787Z",
          "iopub.status.idle": "2024-04-14T10:35:13.394699Z",
          "shell.execute_reply.started": "2024-04-14T10:35:12.534762Z",
          "shell.execute_reply": "2024-04-14T10:35:13.393656Z"
        },
        "trusted": true,
        "id": "SvMBOlvp38bs"
      },
      "execution_count": 13,
      "outputs": []
    },
    {
      "cell_type": "code",
      "source": [
        "pre_train50.fc = nn.Sequential(\n",
        "                            nn.Linear(512,256),\n",
        "                            nn.ReLU(),\n",
        "                            nn.Linear(256,classes))\n",
        "pre_train101.fc = nn.Sequential(\n",
        "                            nn.Linear(512,256),\n",
        "                            nn.ReLU(),\n",
        "                            nn.Linear(256,classes))"
      ],
      "metadata": {
        "execution": {
          "iopub.status.busy": "2024-04-14T10:35:13.395853Z",
          "iopub.execute_input": "2024-04-14T10:35:13.396134Z",
          "iopub.status.idle": "2024-04-14T10:35:13.404293Z",
          "shell.execute_reply.started": "2024-04-14T10:35:13.39611Z",
          "shell.execute_reply": "2024-04-14T10:35:13.403555Z"
        },
        "trusted": true,
        "id": "rPXfV-k738bs"
      },
      "execution_count": 14,
      "outputs": []
    },
    {
      "cell_type": "code",
      "source": [
        "rnet_50 = pre_train50.to(device)\n",
        "rnet_101 =pre_train101.to(device)"
      ],
      "metadata": {
        "execution": {
          "iopub.status.busy": "2024-04-14T10:35:13.405214Z",
          "iopub.execute_input": "2024-04-14T10:35:13.405466Z",
          "iopub.status.idle": "2024-04-14T10:35:13.421482Z",
          "shell.execute_reply.started": "2024-04-14T10:35:13.405443Z",
          "shell.execute_reply": "2024-04-14T10:35:13.4207Z"
        },
        "trusted": true,
        "id": "Mh-B6AW738bs"
      },
      "execution_count": 15,
      "outputs": []
    },
    {
      "cell_type": "code",
      "source": [
        "# images, labels = next(iter(train_loader))\n",
        "# with torch.no_grad():\n",
        "#     running_loss = 0.0\n",
        "#     running_corrects = 0.0\n",
        "#     images = images.to(device)\n",
        "#     labels = labels.to(device)\n",
        "#     output = pre_train(images)\n",
        "#     _, preds = torch.max(output, 1)\n",
        "#     loss = criterion(output, labels)\n",
        "#      # taking the highest value of prediction.\n",
        "#     running_loss += loss.item()*images.size(0)\n",
        "#     print(preds)\n",
        "#     print(labels.data)\n",
        "#     running_corrects += torch.sum(preds == labels.data).detach().cpu().numpy()\n",
        "#     total = labels.size(0)\n",
        "# print(1*images.size(0))\n",
        "\n",
        "# print(running_corrects)\n",
        "\n",
        "# print(running_corrects/total *100)\n",
        "\n",
        "\n"
      ],
      "metadata": {
        "execution": {
          "iopub.status.busy": "2024-04-14T10:35:13.429758Z",
          "iopub.execute_input": "2024-04-14T10:35:13.43013Z",
          "iopub.status.idle": "2024-04-14T10:35:13.945825Z",
          "shell.execute_reply.started": "2024-04-14T10:35:13.4301Z",
          "shell.execute_reply": "2024-04-14T10:35:13.944829Z"
        },
        "trusted": true,
        "id": "lnsbVa7i38bt"
      },
      "execution_count": 16,
      "outputs": []
    },
    {
      "cell_type": "code",
      "source": [
        "# def accuracy(outputs, labels):\n",
        "#     _, preds = torch.max(outputs, dim=1)\n",
        "#     return torch.tensor(torch.sum(preds == labels).item() / len(preds)), preds"
      ],
      "metadata": {
        "execution": {
          "iopub.status.busy": "2024-04-14T10:35:13.947226Z",
          "iopub.execute_input": "2024-04-14T10:35:13.947516Z",
          "iopub.status.idle": "2024-04-14T10:35:13.952197Z",
          "shell.execute_reply.started": "2024-04-14T10:35:13.947492Z",
          "shell.execute_reply": "2024-04-14T10:35:13.950632Z"
        },
        "trusted": true,
        "id": "4uQESCtj38bt"
      },
      "execution_count": 17,
      "outputs": []
    },
    {
      "cell_type": "code",
      "source": [
        "def model_train(model):\n",
        "\n",
        "\n",
        "    running_loss_history = []\n",
        "    running_corrects_history = []\n",
        "    val_running_loss_history = []\n",
        "    val_running_corrects_history = []\n",
        "\n",
        "    num_epochs = 6\n",
        "    total_step = len(train_loader)\n",
        "    criterion = nn.CrossEntropyLoss()\n",
        "    optimizer = torch.optim.Adam(model.parameters(), lr=0.00001, betas=(0.9, 0.999))\n",
        "\n",
        "\n",
        "    for epoch in range(1, num_epochs+1):\n",
        "        running_loss = 0.0\n",
        "        running_corrects = 0.0\n",
        "        val_running_loss = 0.0\n",
        "        val_running_corrects = 0.0\n",
        "\n",
        "        ###################\n",
        "        # train the model #\n",
        "        ###################\n",
        "\n",
        "        model.train()\n",
        "        for images,labels in tqdm(train_loader):\n",
        "            images = images.to(device)\n",
        "            labels = labels.to(device)\n",
        "            optimizer.zero_grad()\n",
        "            output = model(images)\n",
        "            loss = criterion(output, labels)\n",
        "\n",
        "            loss.backward()\n",
        "            optimizer.step()\n",
        "            # update training loss\n",
        "            running_loss += loss.item()*images.size(0)\n",
        "            _, preds = torch.max(output, 1) # taking the highest value of prediction.\n",
        "            running_corrects += torch.sum(preds == labels.data).detach().cpu().numpy()\n",
        "        epoch_loss = running_loss/len(train_loader.dataset)\n",
        "        epoch_acc = running_corrects/ len(train_loader.dataset)\n",
        "        running_loss_history.append(epoch_loss)\n",
        "        running_corrects_history.append(epoch_acc)\n",
        "\n",
        "        ######################\n",
        "        # validate the model #\n",
        "        ######################\n",
        "        # eval mode (no dropout)\n",
        "        model.eval()\n",
        "        with torch.no_grad():\n",
        "            for val_images,val_labels in tqdm(valid_loader):\n",
        "                val_images = val_images.to(device)\n",
        "                val_labels = val_labels.to(device)\n",
        "\n",
        "                val_output = model(val_images)\n",
        "                # calculate the batch loss\n",
        "                loss = criterion(val_output, val_labels)\n",
        "                # update average validation loss\n",
        "\n",
        "                _, val_preds = torch.max(val_output, 1)\n",
        "                val_running_loss += loss.item()*val_images.size(0)\n",
        "                val_running_corrects += torch.sum(val_preds == val_labels.data).detach().cpu().numpy()\n",
        "\n",
        "        val_epoch_loss = val_running_loss/len(valid_loader.dataset)\n",
        "        val_epoch_acc = val_running_corrects/ len(valid_loader.dataset)\n",
        "        val_running_loss_history.append(val_epoch_loss)\n",
        "        val_running_corrects_history.append(val_epoch_acc)\n",
        "\n",
        "        print('epoch :', (epoch))\n",
        "        print('training loss: {:.4f}, acc {:.4f} '.format(epoch_loss,epoch_acc))\n",
        "        print('validation loss: {:.4f}, validation acc {:.4f} '.format(val_epoch_loss, val_epoch_acc))\n",
        "\n",
        "    return running_loss_history,val_running_loss_history,running_corrects_history,val_running_corrects_history"
      ],
      "metadata": {
        "execution": {
          "iopub.status.busy": "2024-04-14T10:35:13.953932Z",
          "iopub.execute_input": "2024-04-14T10:35:13.954216Z",
          "iopub.status.idle": "2024-04-14T10:35:13.969985Z",
          "shell.execute_reply.started": "2024-04-14T10:35:13.954191Z",
          "shell.execute_reply": "2024-04-14T10:35:13.968863Z"
        },
        "trusted": true,
        "id": "AVJYV41Z38bt"
      },
      "execution_count": 18,
      "outputs": []
    },
    {
      "cell_type": "code",
      "source": [
        "running_loss_history,val_running_loss_history,running_corrects_history,val_running_corrects_history = model_train(rnet_50)"
      ],
      "metadata": {
        "execution": {
          "iopub.status.busy": "2024-04-14T10:35:13.990495Z",
          "iopub.execute_input": "2024-04-14T10:35:13.990858Z",
          "iopub.status.idle": "2024-04-14T11:29:43.33699Z",
          "shell.execute_reply.started": "2024-04-14T10:35:13.990833Z",
          "shell.execute_reply": "2024-04-14T11:29:43.335989Z"
        },
        "trusted": true,
        "id": "wPCu8A_m38bu",
        "outputId": "91aa1118-48c2-467a-ff08-d02164055928",
        "colab": {
          "base_uri": "https://localhost:8080/"
        }
      },
      "execution_count": null,
      "outputs": [
        {
          "output_type": "stream",
          "name": "stderr",
          "text": [
            "100%|██████████| 794/794 [02:21<00:00,  5.63it/s]\n",
            "100%|██████████| 265/265 [00:32<00:00,  8.06it/s]\n"
          ]
        },
        {
          "output_type": "stream",
          "name": "stdout",
          "text": [
            "epoch : 1\n",
            "training loss: 3.2414, acc 0.3063 \n",
            "validation loss: 1.3292, validation acc 0.7453 \n"
          ]
        },
        {
          "output_type": "stream",
          "name": "stderr",
          "text": [
            " 81%|████████  | 645/794 [01:50<00:24,  6.02it/s]"
          ]
        }
      ]
    },
    {
      "cell_type": "code",
      "source": [
        "fig = plt.figure(facecolor=\"w\", figsize=(10, 5))\n",
        "plt.plot(running_loss_history)\n",
        "plt.plot(val_running_loss_history)\n",
        "plt.title(\"Resnet_50 Fruits Loss curves\")\n",
        "plt.legend([\"Train loss\", \"Valid loss\"])\n",
        "plt.xlabel(\"Iteration\")\n",
        "plt.ylabel(\"Accuaracy\")\n",
        "plt.show()"
      ],
      "metadata": {
        "id": "-G39n66v38bu"
      },
      "execution_count": null,
      "outputs": []
    },
    {
      "cell_type": "code",
      "source": [
        "fig = plt.figure(facecolor=\"w\", figsize=(10, 5))\n",
        "plt.plot(running_corrects_history)\n",
        "plt.plot(val_running_corrects_history)\n",
        "plt.title(\"Resnet_50 Fruits detection Accuracy\")\n",
        "plt.legend([\"Train Acc\", \"Valid Acc\"])\n",
        "plt.xlabel(\"Iteration\")\n",
        "plt.ylabel(\"Accuaracy\")\n",
        "plt.show()"
      ],
      "metadata": {
        "id": "2PYd_j1538bu"
      },
      "execution_count": null,
      "outputs": []
    },
    {
      "cell_type": "code",
      "source": [
        "running_loss_history,val_running_loss_history,running_corrects_history,val_running_corrects_history = model_train(rnet_101)"
      ],
      "metadata": {
        "execution": {
          "iopub.status.busy": "2024-04-14T11:29:43.338448Z",
          "iopub.execute_input": "2024-04-14T11:29:43.338838Z",
          "iopub.status.idle": "2024-04-14T12:30:39.613548Z",
          "shell.execute_reply.started": "2024-04-14T11:29:43.338805Z",
          "shell.execute_reply": "2024-04-14T12:30:39.612538Z"
        },
        "trusted": true,
        "id": "2_1c84FB38bu"
      },
      "execution_count": null,
      "outputs": []
    },
    {
      "cell_type": "code",
      "source": [
        "fig = plt.figure(facecolor=\"w\", figsize=(10, 5))\n",
        "plt.plot(running_loss_history)\n",
        "plt.plot(val_running_loss_history)\n",
        "plt.title(\"Fruits Loss curves\")\n",
        "plt.legend([\"Train loss\", \"Valid loss\"])\n",
        "plt.xlabel(\"Iteration\")\n",
        "plt.ylabel(\"Accuaracy\")\n",
        "plt.show()"
      ],
      "metadata": {
        "id": "QHk7uCkX38bu"
      },
      "execution_count": null,
      "outputs": []
    },
    {
      "cell_type": "code",
      "source": [
        "fig = plt.figure(facecolor=\"w\", figsize=(10, 5))\n",
        "plt.plot(running_corrects_history)\n",
        "plt.plot(val_running_corrects_history)\n",
        "plt.title(\"Fruits detection Accuracy\")\n",
        "plt.legend([\"Train Acc\", \"Valid Acc\"])\n",
        "plt.xlabel(\"Iteration\")\n",
        "plt.ylabel(\"Accuaracy\")\n",
        "plt.show()"
      ],
      "metadata": {
        "id": "OTkuY82I38bv"
      },
      "execution_count": null,
      "outputs": []
    },
    {
      "cell_type": "code",
      "source": [
        "def model_test(model):\n",
        "\n",
        "    test_loss = 0.0\n",
        "    class_correct = list(0. for i in range(classes))\n",
        "    class_total = list(0. for i in range(classes))\n",
        "    criterion = nn.CrossEntropyLoss()\n",
        "\n",
        "    model.eval()\n",
        "\n",
        "    for image, target in tqdm(test_loader):\n",
        "\n",
        "        image = image.to(device)\n",
        "        target = target.to(device)\n",
        "        with torch.no_grad():\n",
        "            output = model(image)\n",
        "            loss = criterion(output, target)\n",
        "        test_loss += loss.item()*image.size(0)\n",
        "        _, pred = torch.max(output, 1)\n",
        "        correct_tensor = pred.eq(target.data.view_as(pred))\n",
        "        correct = np.squeeze(correct_tensor.numpy()) if not torch.cuda.is_available() else np.squeeze(correct_tensor.cpu().numpy())\n",
        "        if len(target) == 64:\n",
        "            for i in range(64):\n",
        "                label = target.data[i]\n",
        "                class_correct[label] += correct[i].item()\n",
        "                class_total[label] += 1\n",
        "\n",
        "    test_loss = test_loss/len(test_loader.dataset)\n",
        "    print('Test Loss: {:.6f}\\n'.format(test_loss))\n",
        "\n",
        "#   for i in range(classes):\n",
        "#       if class_total[i] > 0:\n",
        "#           print('Test Accuracy of %5s: %2d%% (%2d/%2d)' % (\n",
        "#               classes[i], 100 * class_correct[i] / class_total[i],\n",
        "#               np.sum(class_correct[i]), np.sum(class_total[i])))\n",
        "#       else:\n",
        "#           print('Test Accuracy of %5s: N/A (no training examples)' % (classes[i]))\n",
        "\n",
        "    print('\\nTest Accuracy (Overall): {:.4f} ({}/{})'.format(\n",
        "    100. * np.sum(class_correct) / np.sum(class_total),\n",
        "    np.sum(class_correct), np.sum(class_total)))"
      ],
      "metadata": {
        "execution": {
          "iopub.status.busy": "2024-04-14T12:30:39.61498Z",
          "iopub.execute_input": "2024-04-14T12:30:39.615254Z",
          "iopub.status.idle": "2024-04-14T12:30:39.624927Z",
          "shell.execute_reply.started": "2024-04-14T12:30:39.615232Z",
          "shell.execute_reply": "2024-04-14T12:30:39.624078Z"
        },
        "trusted": true,
        "id": "NaKeqscE38bv"
      },
      "execution_count": null,
      "outputs": []
    },
    {
      "cell_type": "code",
      "source": [
        "model_test(rnet_50)"
      ],
      "metadata": {
        "execution": {
          "iopub.status.busy": "2024-04-14T12:30:39.625946Z",
          "iopub.execute_input": "2024-04-14T12:30:39.626201Z",
          "iopub.status.idle": "2024-04-14T12:36:24.496201Z",
          "shell.execute_reply.started": "2024-04-14T12:30:39.626179Z",
          "shell.execute_reply": "2024-04-14T12:36:24.495212Z"
        },
        "trusted": true,
        "id": "YGt1XDKt38bv"
      },
      "execution_count": null,
      "outputs": []
    },
    {
      "cell_type": "code",
      "source": [
        "model_test(rnet_101)"
      ],
      "metadata": {
        "id": "ySs-5s7v38bv"
      },
      "execution_count": null,
      "outputs": []
    }
  ]
}